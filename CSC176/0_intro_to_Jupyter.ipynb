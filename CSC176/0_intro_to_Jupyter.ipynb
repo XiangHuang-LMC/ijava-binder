{
 "cells": [
  {
   "cell_type": "markdown",
   "metadata": {
    "slideshow": {
     "slide_type": "slide"
    }
   },
   "source": [
    "# Teaching Java with Jupyter\n",
    "## What is Jupyter \n",
    "JupyterLab is a web-based interactive development environment for Jupyter notebooks, code, and data. JupyterLab is flexible: configure and arrange the user interface to support a wide range of workflows in data science, scientific computing, and machine learning. JupyterLab is extensible and modular: write plugins that add new components and integrate with existing ones.\n",
    "\n",
    "You can check out their [website](https://jupyter.org/) here. \n",
    "\n",
    "To me, Jupyter means different things:\n",
    "\n",
    "- I use it as my slides. \n",
    "- I use it to run codes. Yeah, at the same time!\n",
    "- I use it to write other things, like mathematical formula.\n"
   ]
  },
  {
   "cell_type": "markdown",
   "metadata": {
    "slideshow": {
     "slide_type": "subslide"
    }
   },
   "source": [
    "Next, I will show you some basic features of Jupyter. \n"
   ]
  },
  {
   "cell_type": "markdown",
   "metadata": {
    "slideshow": {
     "slide_type": "slide"
    }
   },
   "source": [
    "### Markdown support \n",
    "Markdown is a convenient way to write simple documents. Nowaday it is very popular in the programmer community. \n",
    "\n",
    "You can this [cheat sheet](https://www.markdownguide.org/cheat-sheet/)\n",
    "to have a quick look of the language. \n"
   ]
  },
  {
   "cell_type": "markdown",
   "metadata": {
    "slideshow": {
     "slide_type": "slide"
    }
   },
   "source": [
    "### Latex support\n",
    "\n",
    "You can write math formula like \n",
    "    $$\\int \\frac{1}{1+x^2}= \\arctan{x}$$\n",
    "  and   \n",
    "    $$J(\\theta_0) = \\frac{1}{2m}\\sum_{i=0}^{m} (h_\\theta(x^{(i)}) - y^{(i)})^2.$$"
   ]
  },
  {
   "cell_type": "markdown",
   "metadata": {
    "slideshow": {
     "slide_type": "slide"
    }
   },
   "source": [
    "### Java support \n",
    "The language that is natively support is Python. Support for languae \n",
    "like Java can be added.\n",
    "\n",
    "I found this one supports online notebook with Java. There are several\n",
    "similar projects. For a best list, one can consult [this answer](https://stackoverflow.com/questions/33972860/java-kernel-for-jupyter) ono Stackoverflow.\n",
    "\n",
    "From now on, I will use [iJava](https://github.com/SpencerPark/IJava).\n",
    "\n",
    "\n"
   ]
  },
  {
   "cell_type": "markdown",
   "metadata": {
    "slideshow": {
     "slide_type": "subslide"
    }
   },
   "source": []
  },
  {
   "cell_type": "markdown",
   "metadata": {
    "slideshow": {
     "slide_type": "subslide"
    }
   },
   "source": [
    "You can run it live online by clicking \n",
    "  \"try it live online with [Binder](https://mybinder.org/v2/gh/twosigma/beakerx/1.2.0?filepath=StartHere.ipynb)\"."
   ]
  }
 ],
 "metadata": {
  "celltoolbar": "Slideshow",
  "kernelspec": {
   "display_name": "Java",
   "language": "java",
   "name": "java"
  },
  "language_info": {
   "codemirror_mode": "java",
   "file_extension": ".jshell",
   "mimetype": "text/x-java-source",
   "name": "Java",
   "pygments_lexer": "java",
   "version": "11.0.2+7-LTS"
  }
 },
 "nbformat": 4,
 "nbformat_minor": 2
}
