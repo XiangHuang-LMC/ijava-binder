{
 "cells": [
  {
   "cell_type": "markdown",
   "metadata": {},
   "source": [
    "# Methods \n",
    "Today's topic will be methods. We will fully follow the structure as in the textbook. \n",
    "   \n",
    "## Reading Assignment: Chapter 6.\n",
    "\n",
    "## Functions/Methods definition\n",
    "\n",
    "Last time we see an example using two functions in the same class. (Our next homework will be writing code with two classes.)\n",
    "\n",
    "```java\n",
    "package chapter6;\n",
    "\n",
    "public class TestMax {\n",
    "  /** Main method */\n",
    "  public static void main(String[] args) {\n",
    "    int i = 5;\n",
    "    int j = 2;\n",
    "    int k = max(i, j);\n",
    "    System.out.println(\"The maximum between \" + i +\n",
    "      \" and \" + j + \" is \" + k);\n",
    "  }\n",
    "\n",
    "  /** Return the max between two numbers */\n",
    "  public static int max(int num1, int num2) {\n",
    "    int result;\n",
    "\n",
    "    if (num1 > num2)\n",
    "      result = num1;\n",
    "    else\n",
    "      result = num2;\n",
    "\n",
    "    return result;\n",
    "  }\n",
    "}\n",
    "```\n",
    "\n",
    "### How to define a function\n",
    " ![function definition](pic/func_def.png)\n",
    " \n",
    " Note that for now all your methods have a modifier **public static**, again, just use that, until I say no. \n",
    "\n",
    "## Why do we need a function/method?\n",
    "*Methods can be used to define reusable code and organize and simplify coding.*\n",
    "\n",
    "![intro_func](pic/func_intro.png)\n",
    "\n"
   ]
  },
  {
   "cell_type": "markdown",
   "metadata": {},
   "source": [
    "Rule of thumb: Whenever you identify recurring code, that means you need a **function**.\n",
    "\n",
    "We can **abstract** and **generalize** the above codes and **organize** them into a function. "
   ]
  },
  {
   "cell_type": "code",
   "execution_count": 6,
   "metadata": {},
   "outputs": [
    {
     "name": "stdout",
     "output_type": "stream",
     "text": [
      "Sum from 1 to 10 is 55\n",
      "Sum from 20 to 37 is 513\n",
      "Sum from 35 to 49 is 630\n"
     ]
    }
   ],
   "source": [
    "\n",
    "public static int sum(int i1, int i2) {\n",
    "    int result = 0;\n",
    "    for (int i = i1; i <= i2; i++)\n",
    "        result += i;\n",
    "    return result;\n",
    "}\n",
    "\n",
    "\n",
    "System.out.println(\"Sum from 1 to 10 is \" + sum(1, 10));\n",
    "System.out.println(\"Sum from 20 to 37 is \" + sum(20, 37));\n",
    "System.out.println(\"Sum from 35 to 49 is \" + sum(35, 49));\n"
   ]
  },
  {
   "cell_type": "markdown",
   "metadata": {},
   "source": [
    "## Void Return Value\n",
    "A *void* method does not return a value.\n",
    "\n",
    "```java\n",
    "public class TestVoidMethod {\n",
    "  public static void main(String[] args) {\n",
    "    System.out.print(\"The grade is \");\n",
    "    printGrade(78.5);\n",
    "\n",
    "    System.out.print(\"The grade is \");\n",
    "    printGrade(59.5);\n",
    "  }\n",
    "\n",
    "  public static void printGrade(double score) {\n",
    "    if (score >= 90.0) {\n",
    "      System.out.println('A');\n",
    "    } \n",
    "    else if (score >= 80.0) {\n",
    "      System.out.println('B');\n",
    "    } \n",
    "    else if (score >= 70.0) {\n",
    "      System.out.println('C');\n",
    "    } \n",
    "    else if (score >= 60.0) {\n",
    "      System.out.println('D');\n",
    "    } \n",
    "    else {\n",
    "      System.out.println('F');\n",
    "    }\n",
    "  }\n",
    "}\n",
    "```\n",
    "[demo](https://liveexample.pearsoncmg.com/liang/intro10e/html/TestVoidMethod.html)"
   ]
  },
  {
   "cell_type": "markdown",
   "metadata": {},
   "source": [
    "## Main Function is a function\n",
    "### Disussion\n",
    "   - When do we call the function?\n",
    "   - Does it have input (parameters)?\n",
    "   - Does it have output (return value)?\n",
    "   "
   ]
  },
  {
   "cell_type": "markdown",
   "metadata": {},
   "source": [
    "### Demo\n",
    " Get input for main\n",
    " \n",
    " ```java\n",
    " public class DemoMain{\n",
    "    public static void main(String[] args) {\n",
    "        System.out.println(\"args[0]=\"+args[0]);\n",
    "        System.out.println(\"args[1]=\"+args[1]);\n",
    "        System.out.println(\"args[2]=\"+args[2]);\n",
    "    }\n",
    "}\n",
    " ```\n",
    "\n",
    "The input of main will be *args*. It is a list of strings (Recall what is a list; what is a string).\n",
    "\n",
    "But where do we \"initialize\" the list *args*? We do it from the terminal, when we execute the .class file.\n"
   ]
  },
  {
   "cell_type": "markdown",
   "metadata": {},
   "source": [
    "We can compile it by\n",
    "```bash\n",
    "    java DemoMain.java \n",
    "```\n",
    "on your terminal.\n",
    "\n",
    "and then\n",
    "\n",
    "![demo main](pic/main_demo.png)"
   ]
  },
  {
   "cell_type": "markdown",
   "metadata": {},
   "source": [
    "## BMI class with two classes\n"
   ]
  },
  {
   "cell_type": "code",
   "execution_count": 18,
   "metadata": {},
   "outputs": [
    {
     "ename": "EvalException",
     "evalue": "Undefined cell magic 'bash'",
     "output_type": "error",
     "traceback": [
      "\u001b[1m\u001b[31m---------------------------------------------------------------------------\u001b[0m",
      "\u001b[1m\u001b[31mio.github.spencerpark.jupyter.kernel.magic.registry.UndefinedMagicException: Undefined cell magic 'bash'\u001b[0m",
      "\u001b[1m\u001b[31m\tat io.github.spencerpark.jupyter.kernel.magic.registry.Magics.applyCellMagic(Magics.java:34)\u001b[0m",
      "\u001b[1m\u001b[31m\tat io.github.spencerpark.ijava.runtime.Magics.cellMagic(Magics.java:31)\u001b[0m",
      "\u001b[1m\u001b[31m\tat .(#34:1)\u001b[0m"
     ]
    }
   ],
   "source": [
    "%%bash\n",
    "java"
   ]
  }
 ],
 "metadata": {
  "kernelspec": {
   "display_name": "Java",
   "language": "java",
   "name": "java"
  },
  "language_info": {
   "codemirror_mode": "java",
   "file_extension": ".jshell",
   "mimetype": "text/x-java-source",
   "name": "Java",
   "pygments_lexer": "java",
   "version": "11.0.2+7-LTS"
  }
 },
 "nbformat": 4,
 "nbformat_minor": 4
}
