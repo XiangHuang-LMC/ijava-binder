{
 "cells": [
  {
   "cell_type": "markdown",
   "metadata": {
    "slideshow": {
     "slide_type": "slide"
    }
   },
   "source": [
    "# Jan 31 Lecture: Java JVM, numeric data type, selection (switch), and class\n"
   ]
  },
  {
   "cell_type": "markdown",
   "metadata": {
    "slideshow": {
     "slide_type": "slide"
    }
   },
   "source": [
    "I determine to migrate all my materials to Jupyter notebooks. They will help when you\n",
    "   - miss a class\n",
    "   - fall asleep in a class\n",
    "   - can not catch up with the class\n",
    "   - want to run demo codes \n",
    "\n",
    "It will save my time on\n",
    "   - uploading my course materials to Canvas (because I will not),\n",
    "   - make my slides."
   ]
  },
  {
   "cell_type": "markdown",
   "metadata": {
    "slideshow": {
     "slide_type": "slide"
    }
   },
   "source": [
    "## More Resource \n",
    "\n",
    "- [Textbook](http://www.primeuniversity.edu.bd/160517/vc/eBook/download/IntroductiontoJava.pdf) and [Textbook Solutions](https://github.com/jsquared21/Intro-to-Java-Programming)(not official)\n",
    "- All the source codes of the [examples](http://www.cs.armstrong.edu/liang/intro10e/examplesource.html) in our textbook.\n",
    "- [My Jupyter notebooks](https://github.com/XiangHuang-LMC/ijava-binder) for the lecture. \n",
    "\n",
    "![binder](pic/0-launch.png)"
   ]
  },
  {
   "cell_type": "markdown",
   "metadata": {
    "slideshow": {
     "slide_type": "slide"
    }
   },
   "source": [
    "## More about Java and our developing tools\n",
    "Now you need to write your own code (your first assignment), let's review how your code will be excuted on your machine.\n",
    "\n",
    "![JVM](pic/0-JVM.png)\n",
    "\n",
    "The first step will be accomplished by **javac** command, the second will be accompliesh by **java** command, as we demostrated last time. \n",
    "   \n",
    "   -  **javac** your_.java_file_name\n",
    "   -  **java**  your_.class_file_name\n"
   ]
  },
  {
   "cell_type": "markdown",
   "metadata": {
    "slideshow": {
     "slide_type": "slide"
    }
   },
   "source": [
    "The process of writing your code:\n",
    "\n",
    "![](pic/0-compile.png)"
   ]
  },
  {
   "cell_type": "markdown",
   "metadata": {
    "slideshow": {
     "slide_type": "slide"
    }
   },
   "source": [
    "Here I recommand [jGrasp](https://spider.eng.auburn.edu/user-cgi/grasp/grasp.pl?;dl=download_jgrasp.html), or you can\n",
    "find it in **AJ apps** on our virtual desktop. Install the one bundled with Java, or if you use MacOS, I guess you should have Java already. If you run into any trouble installing jGrasp or Java on your local machine, please let me know.  \n",
    "\n",
    "![jGrasp](pic/0-jGrasp.png)"
   ]
  },
  {
   "cell_type": "markdown",
   "metadata": {
    "slideshow": {
     "slide_type": "slide"
    }
   },
   "source": [
    "## Numeric Data types\n",
    "\n",
    "![more data types](pic/0-numeric_data_type.png)"
   ]
  },
  {
   "cell_type": "markdown",
   "metadata": {
    "slideshow": {
     "slide_type": "slide"
    }
   },
   "source": [
    "For Scanners you get the corresponding methods to read your numeric datatypes.\n",
    "    ![More Scanner Methods](pic/0-Scanner_methods.png)"
   ]
  },
  {
   "cell_type": "markdown",
   "metadata": {
    "slideshow": {
     "slide_type": "slide"
    }
   },
   "source": [
    "## **switch** Statements\n",
    "\n",
    "Today we are going to learn a new type of statements: **switch** statements. A **switch** statement executes statements based on the value of a variable or an expression.\n",
    "\n",
    "![Tax Status](pic/3-switch-tax.png)\n"
   ]
  },
  {
   "cell_type": "markdown",
   "metadata": {
    "slideshow": {
     "slide_type": "slide"
    }
   },
   "source": [
    "![Tax Flow](pic/3-switch-flow.png)\n"
   ]
  },
  {
   "cell_type": "markdown",
   "metadata": {
    "slideshow": {
     "slide_type": "slide"
    }
   },
   "source": [
    "![Switch fall](pic/3-switch-fall.png)"
   ]
  },
  {
   "cell_type": "markdown",
   "metadata": {
    "slideshow": {
     "slide_type": "slide"
    }
   },
   "source": [
    "### Code demo: switch"
   ]
  },
  {
   "cell_type": "code",
   "execution_count": 36,
   "metadata": {
    "slideshow": {
     "slide_type": "slide"
    }
   },
   "outputs": [
    {
     "name": "stdout",
     "output_type": "stream",
     "text": [
      "Thursday\n",
      "Friday\n"
     ]
    }
   ],
   "source": [
    "int day=3;\n",
    "switch (day){\n",
    "    case 1:\n",
    "    case 2: \n",
    "    case 3: \n",
    "    case 4: \n",
    "    case 5: System.out.println(\"Workday\"); break;\n",
    "    case 0: case 6: System.out.println(\"Weekend\");\n",
    "}"
   ]
  },
  {
   "cell_type": "markdown",
   "metadata": {
    "slideshow": {
     "slide_type": "slide"
    }
   },
   "source": [
    "### Code demo: [The Chinese Zodiac ](http://www.cs.armstrong.edu/liang/intro10e/html/ChineseZodiac.html)"
   ]
  },
  {
   "cell_type": "markdown",
   "metadata": {
    "slideshow": {
     "slide_type": "slide"
    }
   },
   "source": [
    "![Chinese Zodaic](pic/3-Chinese-Zodaic.png)"
   ]
  },
  {
   "cell_type": "code",
   "execution_count": 18,
   "metadata": {
    "slideshow": {
     "slide_type": "slide"
    }
   },
   "outputs": [],
   "source": [
    "import java.util.Scanner;\n",
    "\n",
    "public class ChineseZodiac {\n",
    "  public static void main(String[] args) {\n",
    "    Scanner input = new Scanner(System.in);\n",
    "    \n",
    "    System.out.print(\"Enter a year: \");\n",
    "    int year = input.nextInt();\n",
    "    \n",
    "    switch (year % 12) {\n",
    "      case 0: System.out.println(\"monkey\"); break;\n",
    "      case 1: System.out.println(\"rooster\"); break;\n",
    "      case 2: System.out.println(\"dog\"); break;\n",
    "      case 3: System.out.println(\"pig\"); break;\n",
    "      case 4: System.out.println(\"rat\"); break;\n",
    "      case 5: System.out.println(\"ox\"); break;\n",
    "      case 6: System.out.println(\"tiger\"); break;\n",
    "      case 7: System.out.println(\"rabbit\"); break;\n",
    "      case 8: System.out.println(\"dragon\"); break;\n",
    "      case 9: System.out.println(\"snake\"); break;\n",
    "      case 10: System.out.println(\"horse\"); break;\n",
    "      case 11: System.out.println(\"sheep\"); break;\n",
    "    }\n",
    "  }\n",
    "}"
   ]
  },
  {
   "cell_type": "markdown",
   "metadata": {
    "slideshow": {
     "slide_type": "slide"
    }
   },
   "source": [
    "## Conditional Expressions\n"
   ]
  },
  {
   "cell_type": "code",
   "execution_count": 22,
   "metadata": {
    "slideshow": {
     "slide_type": "slide"
    }
   },
   "outputs": [
    {
     "name": "stdout",
     "output_type": "stream",
     "text": [
      "y is 1\n"
     ]
    }
   ],
   "source": [
    "int x=4;\n",
    "int y;\n",
    "\n",
    "if(x>0){\n",
    "    y=1;\n",
    "}\n",
    "else{\n",
    "    y=-1;\n",
    "}\n",
    "System.out.println(\"y is \"+ y);"
   ]
  },
  {
   "cell_type": "markdown",
   "metadata": {
    "slideshow": {
     "slide_type": "slide"
    }
   },
   "source": [
    "The expression should be written as\n",
    "    **boolean-expression ? expression 1; expression 2**"
   ]
  },
  {
   "cell_type": "code",
   "execution_count": 38,
   "metadata": {
    "slideshow": {
     "slide_type": "slide"
    }
   },
   "outputs": [
    {
     "name": "stdout",
     "output_type": "stream",
     "text": [
      "y is 1\n"
     ]
    }
   ],
   "source": [
    " x= 4;\n",
    " y = (x>0)? 1 : -1;\n",
    " \n",
    " System.out.println(\"y is \"+ y);"
   ]
  },
  {
   "cell_type": "markdown",
   "metadata": {
    "slideshow": {
     "slide_type": "slide"
    }
   },
   "source": [
    "### Excercise:\n",
    "Change the following condition expression using **if-else** statements:\n",
    "\n",
    "    score = (x>10)? 3* scale : 4* scale;\n",
    " "
   ]
  },
  {
   "cell_type": "code",
   "execution_count": null,
   "metadata": {},
   "outputs": [],
   "source": [
    "if(x>10){\n",
    "    score = 3*scale;\n",
    "}\n",
    "else{\n",
    "    score = 4* scale;\n",
    "}"
   ]
  },
  {
   "cell_type": "markdown",
   "metadata": {
    "slideshow": {
     "slide_type": "slide"
    }
   },
   "source": [
    "Rewrite the following **if** statement using the conditional operator.\n",
    "\n",
    "```java \n",
    "if (age >= 16){\n",
    "    ticketPrice = 20;\n",
    "}\n",
    "else\n",
    "    ticketPrice = 10;\n",
    "```"
   ]
  },
  {
   "cell_type": "code",
   "execution_count": null,
   "metadata": {},
   "outputs": [],
   "source": [
    "ticketPrice = (age>=16)? 20:10;"
   ]
  },
  {
   "cell_type": "code",
   "execution_count": 33,
   "metadata": {
    "slideshow": {
     "slide_type": "slide"
    }
   },
   "outputs": [
    {
     "name": "stdout",
     "output_type": "stream",
     "text": [
      "Your price is 20.\n"
     ]
    }
   ],
   "source": [
    "int age =19;\n",
    "\n",
    "if(age > 16)\n",
    "{\n",
    "    System.out.println(\"Your price is 20.\");\n",
    "}\n",
    "\n",
    "else{\n",
    "\n",
    "  System.out.println(\"Your price is 20.\");\n",
    "\n",
    "}"
   ]
  },
  {
   "cell_type": "code",
   "execution_count": null,
   "metadata": {},
   "outputs": [],
   "source": []
  },
  {
   "cell_type": "code",
   "execution_count": null,
   "metadata": {},
   "outputs": [],
   "source": []
  },
  {
   "cell_type": "code",
   "execution_count": null,
   "metadata": {},
   "outputs": [],
   "source": []
  }
 ],
 "metadata": {
  "celltoolbar": "Slideshow",
  "kernelspec": {
   "display_name": "Java",
   "language": "java",
   "name": "java"
  },
  "language_info": {
   "codemirror_mode": "java",
   "file_extension": ".jshell",
   "mimetype": "text/x-java-source",
   "name": "Java",
   "pygments_lexer": "java",
   "version": "11.0.2+7-LTS"
  }
 },
 "nbformat": 4,
 "nbformat_minor": 2
}
