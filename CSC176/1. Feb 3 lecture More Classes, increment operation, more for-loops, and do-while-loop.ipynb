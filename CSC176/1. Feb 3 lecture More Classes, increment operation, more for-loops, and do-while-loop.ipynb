{
 "cells": [
  {
   "cell_type": "markdown",
   "metadata": {},
   "source": [
    "# Feb 3 lecture: More Classes, increment operation, more for-loops, and do-while-loop\n",
    "\n",
    "Today's topic:\n",
    " - We will learn a bit more about classes. This is a detour thought, to help you understand the code structure of our homework assignment better. We will still focus on structural programming aspect of Java for a while. \n",
    " - Increment and Decrement Operators (Textbook Sec 2.14).\n",
    " - More for-loops. (Chapter 5)\n",
    " - do-while-loops. (Chapter 5)\n",
    "\n",
    "Note that I do not and will not strictly follow the order as in our text book. Keep in mind that the book is written in a way with the assumption that you do not know how to program yet, we do not make that assumption here ! (That is not true.)\n",
    "\n",
    "I will only try to discuss with you in the lectures what you haven't know yet and will try to get familiar with Java in a quicker way. \n",
    "\n",
    "You still need to read the textbook yourself most of the time.\n",
    "\n",
    "As a Chinese saying goes, \"Give a man a fish and you feed him for a day; teach a man to fish and you feed him for a lifetime.\" (授人以鱼不如授人以渔.)\n",
    "\n",
    "I really hope I can teach you how to fish, but not feed you a fish every day. \n",
    "\n",
    " \n",
    " "
   ]
  },
  {
   "cell_type": "markdown",
   "metadata": {},
   "source": [
    "## More about class\n",
    "We have the following code in our first homework. \n",
    "Last time after our class, I got a student ask me why we put the Scanner **outside** of the main() function in [this file](src/BMI_3_Methods_Obj.java). \n",
    "\n",
    "The file is too long to view. Here is a better summery of the file.\n",
    "\n",
    "```java\n",
    "public class BMI_3_Methods_Obj\n",
    "{\n",
    "\tScanner scan;\n",
    "\n",
    "\tpublic static void main(String[] args);\n",
    "\tprivate BMI_3_Methods_Obj();\n",
    "\tprivate void go();\n",
    "\tprivate double getNumber(String prompt); \n",
    "\tprivate boolean isInputValid(double   userInput, double min, double max);\n",
    "\tprivate String getBMICategory(double weight, double height);\n",
    "}\n",
    "\n",
    "```\n"
   ]
  },
  {
   "cell_type": "markdown",
   "metadata": {},
   "source": [
    "The quick answer is, the Scanner scan and the main() function are both part of the description of the class that we are we working on.\n",
    "  - The scanner *scan* is a member variable \n",
    "  - All the function are member functions, or methods. \n",
    "\n",
    "Why do we make the scanner as a part of the class?\n",
    "- The shallow reason, the scanner *scan* is a variable that can be see in the whole scope of the class. We do not need to past around *scan* as a parameter when we implement all the methods. \n",
    "- The deeper reason, this is where we use object-oriented programming philosophy. We try to **simulate** the world by thinking there are objects interact with each other, instead of describing what happens first, the what is the next, or the **procedure programming** philosophy.  \n",
    "\n"
   ]
  },
  {
   "cell_type": "markdown",
   "metadata": {},
   "source": [
    "### Study Case: dice \n",
    "Let's say we want to have simulate rolling a die. We first do it in the procedure programming way.\n",
    "\n",
    "```python\n",
    "import random\n",
    "\n",
    "faces = [1,2,3,4,5,6]\n",
    "def roll(input_array):\n",
    "    return input_array[randrange(1,7)] \n",
    "```\n"
   ]
  },
  {
   "cell_type": "markdown",
   "metadata": {},
   "source": [
    "Note that in the above implementation, our program basically contains two part.\n",
    "  - data: the faces array\n",
    "  - algorithm: the way we manipulate the data\n",
    "\n",
    "However, without reading the source code carefully enough, you won't realize that the roll() function, until you make a function call like \n",
    "```python\n",
    "roll(faces)\n",
    "```\n",
    "\n",
    "Not to mention that *faces* and *roll* can be put in a source file that contains 1000 lines of code, or maybe even in different files. "
   ]
  },
  {
   "cell_type": "markdown",
   "metadata": {},
   "source": [
    "**OOP implementation**: we literally think there are dice and we try to describe them. How? We start with\n",
    "  - faces: dice have faces\n",
    "  - roll(): we can roll a die, or dices can be rolled. \n",
    "\n",
    "```java \n",
    "class Die\n",
    "{\n",
    "    int[] faces;\n",
    "    int roll(){\n",
    "       return faces[((int)Math.random() * 6)+1]; \n",
    "    }\n",
    "}\n",
    "```\n",
    "\n",
    "By doing the above, the way we are thinking about programming is different.\n",
    "    -We **simulate** a die. \n",
    "    -If we need more than one die, we just create another.\n",
    "    -We pack the data and the manipulation into one thing, that we call a class. \n",
    "    \n",
    "    \n",
    "  "
   ]
  },
  {
   "cell_type": "markdown",
   "metadata": {},
   "source": [
    "If we want faces value, we can do\n",
    "```java\n",
    "class Die\n",
    "{\n",
    "    int[] faces;\n",
    "    public void Die(int[] myfaces)\n",
    "    {\n",
    "        faces=myfaces;\n",
    "    }\n",
    "    int roll(){\n",
    "       return faces[((int)Math.random() * 6)+1]; \n",
    "    }\n",
    "}\n",
    "public class TestDie{\n",
    "    public static void main(String[] args)\n",
    "    {\n",
    "        int[] faces_1= {1,2,3,4,5,6};\n",
    "        int[] faces_2= {2,3,5,7,11,13};\n",
    "        Die d_1 = new Die(faces_1);\n",
    "        Die d_2 = new Die(faces_2)\n",
    "        \n",
    "        System.out.println(\"rolling Die 1: \"+ d_1.roll());\n",
    "        System.out.println(\"rolling Die 1: \"+ d_2.roll());\n",
    "    }\n",
    "}\n",
    "```"
   ]
  },
  {
   "cell_type": "markdown",
   "metadata": {},
   "source": [
    "### Discussion: BMI revisit \n",
    "  Do you understand the [BMI_03 class](src/BMI_3_Methods_Obj.java) better?\n",
    "  \n",
    "### Dicussion: BMI_4 (with more than one class)\n",
    "  File: \n",
    "  - [BMI_4_methods.java](src/BMI_4_methods.java)\n",
    "  - [BMI_4_main.java](src/BMI_4_methods.java)"
   ]
  },
  {
   "cell_type": "markdown",
   "metadata": {},
   "source": [
    "## Increment and decrement Operation"
   ]
  },
  {
   "cell_type": "markdown",
   "metadata": {},
   "source": [
    "## More for-loops "
   ]
  },
  {
   "cell_type": "markdown",
   "metadata": {},
   "source": [
    "## Do-while-loops"
   ]
  }
 ],
 "metadata": {
  "kernelspec": {
   "display_name": "Java",
   "language": "java",
   "name": "java"
  },
  "language_info": {
   "codemirror_mode": "java",
   "file_extension": ".jshell",
   "mimetype": "text/x-java-source",
   "name": "Java",
   "pygments_lexer": "java",
   "version": "11.0.2+7-LTS"
  }
 },
 "nbformat": 4,
 "nbformat_minor": 4
}
