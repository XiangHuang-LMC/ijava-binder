{
 "cells": [
  {
   "cell_type": "markdown",
   "metadata": {},
   "source": [
    "# Feb 3 lecture: More Classes, increment operation, more for-loops, and do-while-loop\n",
    "\n",
    "Today's topic:\n",
    " - We will learn a bit more about classes. This is a detour thought, to help you understand the code structure of our homework assignment better. We will still focus on structural programming aspect of Java for a while. \n",
    " - Increment and Decrement Operators (Textbook Sec 2.14).\n",
    " - More for-loops. (Chapter 5)\n",
    " - do-while-loops. (Chapter 5)\n",
    "\n",
    "Note that I do not and will not strictly follow the order as in our text book. Keep in mind that the book is written in a way with the assumption that you do not know how to program yet, we do not make that assumption here ! (That is not true.)\n",
    "\n",
    "I will only try to discuss with you in the lectures what you haven't know yet and will try to get familiar with Java in a quicker way. \n",
    "\n",
    "You still need to read the textbook yourself most of the time.\n",
    "\n",
    "As a Chinese saying goes, \"Give a man a fish and you feed him for a day; teach a man to fish and you feed him for a lifetime.\" (授人以鱼不如授人以渔.)\n",
    "\n",
    "I really hope I can teach you how to fish, but not feed you a fish every day. \n",
    "\n",
    " \n",
    " "
   ]
  },
  {
   "cell_type": "markdown",
   "metadata": {},
   "source": [
    "## More about class\n",
    "We have the following code in our first homework. \n",
    "Last time after our class, I got a student ask me why we put the Scanner **outside** of the main() function in [this file](src/BMI_3_Methods_Obj.java). \n",
    "\n",
    "The file is too long to view. Here is a better summery of the file.\n",
    "\n",
    "```java\n",
    "public class BMI_3_Methods_Obj\n",
    "{\n",
    "\tScanner scan;\n",
    "\n",
    "\tpublic static void main(String[] args);\n",
    "\tprivate BMI_3_Methods_Obj();\n",
    "\tprivate void go();\n",
    "\tprivate double getNumber(String prompt); \n",
    "\tprivate boolean isInputValid(double   userInput, double min, double max);\n",
    "\tprivate String getBMICategory(double weight, double height);\n",
    "}\n",
    "\n",
    "```\n"
   ]
  },
  {
   "cell_type": "markdown",
   "metadata": {},
   "source": [
    "The quick answer is, the Scanner scan and the main() function are both part of the description of the class that we are we working on.\n",
    "  - The scanner *scan* is a member variable \n",
    "  - All the function are member functions, or methods. \n",
    "\n",
    "Why do we make the scanner as a part of the class?\n",
    "- The shallow reason, the scanner *scan* is a variable that can be see in the whole scope of the class. We do not need to past around *scan* as a parameter when we implement all the methods. \n",
    "- The deeper reason, this is where we use object-oriented programming philosophy. We try to **simulate** the world by thinking there are objects interact with each other, instead of describing what happens first, the what is the next, or the **procedure programming** philosophy.  \n",
    "\n"
   ]
  },
  {
   "cell_type": "markdown",
   "metadata": {},
   "source": [
    "### Study Case: dice \n",
    "Let's say we want to have simulate rolling a die. We first do it in the procedure programming way. \n",
    "\n",
    "```python\n",
    "import random\n",
    "\n",
    "faces = [1,2,3,4,5,6]\n",
    "def roll(input_array):\n",
    "    return input_array[randrange(1,7)] \n",
    "```\n"
   ]
  },
  {
   "cell_type": "markdown",
   "metadata": {},
   "source": [
    "Note that in the above implementation, our program basically contains two part.\n",
    "  - data: the faces array\n",
    "  - algorithm: the way we manipulate the data\n",
    "\n",
    "However, without reading the source code carefully enough, you won't realize that the roll() function, until you make a function call like \n",
    "```python\n",
    "roll(faces)\n",
    "```\n",
    "\n",
    "Not to mention that *faces* and *roll* can be put in a source file that contains 1000 lines of code, or maybe even in different files. "
   ]
  },
  {
   "cell_type": "markdown",
   "metadata": {},
   "source": [
    "**OOP implementation**: we literally think there are dice and we try to describe them. How? We start with\n",
    "  - faces: dice have faces\n",
    "  - roll(): we can roll a die, or dices can be rolled. \n",
    "\n",
    "```java \n",
    "class Die\n",
    "{\n",
    "    int[] faces;\n",
    "    int roll(){\n",
    "       return faces[((int)Math.random() * 6)+1]; \n",
    "    }\n",
    "}\n",
    "```\n",
    "\n",
    "By doing the above, the way we are thinking about programming is different.\n",
    "\n",
    "    - We **simulate** a die. \n",
    "    - If we need more than one die, we just create another.\n",
    "    - We pack the data and the manipulation into one thing, that we call a class. \n",
    "    \n",
    "    \n",
    "  "
   ]
  },
  {
   "cell_type": "markdown",
   "metadata": {},
   "source": [
    "If we want faces value, we can do\n",
    "```java\n",
    "class Die\n",
    "{\n",
    "    int[] faces;\n",
    "    public void Die(int[] myfaces)\n",
    "    {\n",
    "        faces=myfaces;\n",
    "    }\n",
    "    int roll(){\n",
    "       return faces[((int)Math.random() * 6)+1]; \n",
    "    }\n",
    "}\n",
    "public class TestDie{\n",
    "    public static void main(String[] args)\n",
    "    {\n",
    "        int[] faces_1= {1,2,3,4,5,6};\n",
    "        int[] faces_2= {2,3,5,7,11,13};\n",
    "        Die d_1 = new Die(faces_1);\n",
    "        Die d_1_prime = new Die(faces_1);\n",
    "        Die d_2 = new Die(faces_2)\n",
    "        \n",
    "        System.out.println(\"rolling Die 1: \"+ d_1.roll());\n",
    "        System.out.println(\"rolling Die 1: \"+ d_2.roll());\n",
    "    }\n",
    "}\n",
    "```"
   ]
  },
  {
   "cell_type": "markdown",
   "metadata": {},
   "source": [
    "### Discussion: BMI revisit \n",
    "  Do you understand the [BMI_03 class](src/BMI_3_Methods_Obj.java) better?\n",
    "  \n",
    "### Dicussion: BMI_4 (with more than one class)\n",
    "  File: \n",
    "  - [BMI_4_methods.java](src/BMI_4_methods.java)\n",
    "  - [BMI_4_main.java](src/BMI_4_methods.java)"
   ]
  },
  {
   "cell_type": "markdown",
   "metadata": {},
   "source": [
    "## Increment and decrement Operation\n",
    "Survey before start the class: \n",
    "  - How comfortable are you in transition from writing Python to Java?\n",
    "  - Do you read the text book after the class?\n",
    " \n",
    " The *++* and *--* are two shorthand operators for incrementing and decrementing a variable by 1. These are handy because that’s often how much the value needs to be changed in many programming tasks."
   ]
  },
  {
   "cell_type": "code",
   "execution_count": 12,
   "metadata": {},
   "outputs": [
    {
     "name": "stdout",
     "output_type": "stream",
     "text": [
      "test i++:3\n",
      "test i++:4\n",
      "test i++:4\n",
      "test i++:4\n"
     ]
    }
   ],
   "source": [
    "int i = 3, j = 5;\n",
    "\n",
    "System.out.println(\"test i++:\" + i++);\n",
    "System.out.println(\"test i++:\" + i);\n",
    "i = 3;\n",
    "\n",
    "System.out.println(\"test i++:\" + ++i);\n",
    "System.out.println(\"test i++:\" + i);\n"
   ]
  },
  {
   "cell_type": "markdown",
   "metadata": {},
   "source": [
    "###  The i++ / i-- operation\n",
    "In the above case, we need to note that we two values values involved in the expression *i++*.\n",
    "    - The value of the expression. \n",
    "    - The value of i. \n",
    "\n",
    "When we do an assignment, \n",
    "```java \n",
    "    i = 3;\n",
    "    j = i++;\n",
    "```\n",
    "j will get the value of 3, which is also the **value of the expression i++**. \n",
    "\n",
    "You can view the above equivalently as\n",
    "```java\n",
    "   i=3;\n",
    "   j=i;\n",
    "   i=i+1;\n",
    "```"
   ]
  },
  {
   "cell_type": "code",
   "execution_count": 15,
   "metadata": {},
   "outputs": [
    {
     "name": "stdout",
     "output_type": "stream",
     "text": [
      "j = 3\n",
      "i = 4\n"
     ]
    }
   ],
   "source": [
    "i = 3;\n",
    "j = i++;\n",
    "\n",
    "System.out.println(\"j = \" + j);\n",
    "System.out.println(\"i = \" + i);"
   ]
  },
  {
   "cell_type": "markdown",
   "metadata": {},
   "source": [
    "### The ++i / --i  operation:\n",
    "Consider \n",
    "```java \n",
    "    i = 3;\n",
    "    j = ++i;\n",
    "```\n",
    "and observe the following code, what will happen?"
   ]
  },
  {
   "cell_type": "code",
   "execution_count": 17,
   "metadata": {},
   "outputs": [
    {
     "name": "stdout",
     "output_type": "stream",
     "text": [
      "j = 4\n",
      "i = 4\n"
     ]
    }
   ],
   "source": [
    "i = 3;\n",
    "j = ++i;\n",
    "\n",
    "System.out.println(\"j = \" + j);\n",
    "System.out.println(\"i = \" + i);"
   ]
  },
  {
   "cell_type": "markdown",
   "metadata": {},
   "source": [
    "Note the the expression **++i** has a value of 4. After this, i will also become 4. \n",
    "\n",
    "A summary from the textbook:\n",
    "![increment and decrement operations](pic/inc.png)"
   ]
  },
  {
   "cell_type": "markdown",
   "metadata": {},
   "source": [
    "## Do-while-loops\n",
    "A do-while loop is the same as a while loop except that it executes the loop body\n",
    "first and then checks the loop continuation condition.\n",
    "\n",
    "```java\n",
    "do {\n",
    "    // Loop body;\n",
    "    Statement(s);\n",
    "} while (loop-continuation-condition);\n",
    "```\n",
    "![do-while-loop](pic/do-while.png)"
   ]
  },
  {
   "cell_type": "markdown",
   "metadata": {},
   "source": [
    "### Nested Loops\n",
    "\n",
    "I think some of you have already know how to write nested loops already. The more level we nest the loop the slower the program is. Sometimes this is unavoidable, but most case, especially for the programs you will need to write in this class, you need give a second thought to simplify the loop structure.\n",
    "\n",
    "```java\n",
    "for (int a = 1; a <= n; a++) {\n",
    "            for (int b = a; b <= n; b++) {\n",
    "                 for (int c = a + 1; c <= n; c++) {\n",
    "\n",
    "                    for (int d = c; d <= n; d++) {\n",
    "                          //do something\n",
    "                        }\n",
    "                    }\n",
    "                }\n",
    "            }\n",
    "        }\n",
    "    }\n",
    "```\n",
    "\n"
   ]
  },
  {
   "cell_type": "markdown",
   "metadata": {},
   "source": [
    "### HW 1: make your main simple; do the job in a worker function. I actually got the code piece from one of\n",
    "you.\n",
    "```java\n",
    "import java.util.Scanner;\n",
    "\n",
    "public class HardyRamanujanNumber {\n",
    "\n",
    "   public static void main(String[] args) { \n",
    "\n",
    "         int n = 100000;\n",
    "        // for each a, b, c, d, check whether a^3 + b^3 = c^3 + d^3\n",
    "        for (int a = 1; a <= n; a++) {\n",
    "            //avoid duplicates\n",
    "            for (int b = a; b <= n; b++) {\n",
    "                 //avoid duplicates\n",
    "                 for (int c = a + 1; c <= n; c++) \n",
    "                     //avoid duplicates\n",
    "                    for (int d = c; d <= n; d++) {\n",
    "                        // do something\n",
    "                    }\n",
    "                }\n",
    "            }\n",
    "        }\n",
    "    }\n",
    "}\n",
    "```"
   ]
  },
  {
   "cell_type": "markdown",
   "metadata": {},
   "source": [
    "```java \n",
    "public class TestMax {\n",
    "    /** Main method */\n",
    "    public static void main(String[] args) {\n",
    "        int i = 5;\n",
    "        int j = 2;\n",
    "        int k = max(i, j);\n",
    "        System.out.println(\"The maximum of \" + i +\" and \" + j + \" is \" + k);\n",
    "}\n",
    "    /** Return the max of two numbers */\n",
    "    public static int max(int num1, int num2) {\n",
    "        int result;\n",
    "        if (num1 > num2)\n",
    "        result = num1;\n",
    "        else\n",
    "        result = num2;\n",
    "        return result;\n",
    "    }\n",
    "}\n",
    "```"
   ]
  },
  {
   "cell_type": "markdown",
   "metadata": {},
   "source": [
    "### Final remarks  for loops \n",
    "\n",
    "You can write one type of loop in another form and they are totally equivalent. \n",
    "\n",
    "![loop-equiv](pic/loop-equiv.png)\n",
    "\n",
    "Some common errors:\n",
    "![err1](pic/loop_err1.png)\n",
    "![err2](pic/loop-err2.png)"
   ]
  },
  {
   "cell_type": "markdown",
   "metadata": {},
   "source": [
    "### Reading:\n",
    " Section5.7: Minimizing Numeric Errors (loops and float numbers)"
   ]
  },
  {
   "cell_type": "markdown",
   "metadata": {},
   "source": [
    "### Demo: Debugger\n",
    "\n",
    "VS Code Debugger"
   ]
  }
 ],
 "metadata": {
  "kernelspec": {
   "display_name": "Java",
   "language": "java",
   "name": "java"
  },
  "language_info": {
   "codemirror_mode": "java",
   "file_extension": ".jshell",
   "mimetype": "text/x-java-source",
   "name": "Java",
   "pygments_lexer": "java",
   "version": "11.0.2+7-LTS"
  }
 },
 "nbformat": 4,
 "nbformat_minor": 4
}
