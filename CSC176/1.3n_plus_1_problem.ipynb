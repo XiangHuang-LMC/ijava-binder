{
 "cells": [
  {
   "cell_type": "code",
   "execution_count": 12,
   "metadata": {},
   "outputs": [
    {
     "name": "stdout",
     "output_type": "stream",
     "text": [
      "Hello World!\n"
     ]
    }
   ],
   "source": [
    "System.out.println(\"Hello World!\");\n",
    "    "
   ]
  },
  {
   "cell_type": "code",
   "execution_count": 1,
   "metadata": {
    "scrolled": true
   },
   "outputs": [
    {
     "name": "stdout",
     "output_type": "stream",
     "text": [
      "Hello!World!\n",
      "\n"
     ]
    }
   ],
   "source": [
    "System.out.print(\"Hello!\");\n",
    "System.out.println(\"World!\");\n",
    "System.out.println();"
   ]
  },
  {
   "cell_type": "code",
   "execution_count": 3,
   "metadata": {},
   "outputs": [
    {
     "name": "stdout",
     "output_type": "stream",
     "text": [
      "i equals:1\n",
      "i equals:3\n"
     ]
    },
    {
     "ename": "CompilationException",
     "evalue": "",
     "output_type": "error",
     "traceback": [
      "\u001b[1m\u001b[30m|   \u001b[1m\u001b[30mSystem.out.println(\"i is \"+ \u001b[0m\u001b[1m\u001b[30m\u001b[41mi\u001b[0m\u001b[1m\u001b[30m);\u001b[0m",
      "\u001b[1m\u001b[31mcannot find symbol\u001b[0m",
      "\u001b[1m\u001b[31m  symbol:   variable i\u001b[0m",
      ""
     ]
    }
   ],
   "source": [
    "for(int i=1; i<5; i=i+2)\n",
    "{\n",
    "    System.out.println(\"i equals:\"+ Integer.toString(i));\n",
    "}\n",
    "System.out.println(\"i is \"+ i);"
   ]
  },
  {
   "cell_type": "code",
   "execution_count": 4,
   "metadata": {},
   "outputs": [
    {
     "name": "stdout",
     "output_type": "stream",
     "text": [
      "i equals:1\n",
      "i equals:3\n",
      "i is 5\n"
     ]
    }
   ],
   "source": [
    "int i=1;\n",
    "for(  ; i<5; i=i+2)\n",
    "{\n",
    "    System.out.println(\"i equals:\"+ Integer.toString(i));\n",
    "}\n",
    "System.out.println(\"i is \"+ i);"
   ]
  },
  {
   "cell_type": "code",
   "execution_count": 5,
   "metadata": {},
   "outputs": [
    {
     "name": "stdout",
     "output_type": "stream",
     "text": [
      "num=27\n",
      "num=82\n",
      "num=41\n",
      "num=124\n",
      "num=62\n",
      "num=31\n",
      "num=94\n",
      "num=47\n",
      "num=142\n",
      "num=71\n",
      "num=214\n",
      "num=107\n",
      "num=322\n",
      "num=161\n",
      "num=484\n",
      "num=242\n",
      "num=121\n",
      "num=364\n",
      "num=182\n",
      "num=91\n",
      "num=274\n",
      "num=137\n",
      "num=412\n",
      "num=206\n",
      "num=103\n",
      "num=310\n",
      "num=155\n",
      "num=466\n",
      "num=233\n",
      "num=700\n",
      "num=350\n",
      "num=175\n",
      "num=526\n",
      "num=263\n",
      "num=790\n",
      "num=395\n",
      "num=1186\n",
      "num=593\n",
      "num=1780\n",
      "num=890\n",
      "num=445\n",
      "num=1336\n",
      "num=668\n",
      "num=334\n",
      "num=167\n",
      "num=502\n",
      "num=251\n",
      "num=754\n",
      "num=377\n",
      "num=1132\n",
      "num=566\n",
      "num=283\n",
      "num=850\n",
      "num=425\n",
      "num=1276\n",
      "num=638\n",
      "num=319\n",
      "num=958\n",
      "num=479\n",
      "num=1438\n",
      "num=719\n",
      "num=2158\n",
      "num=1079\n",
      "num=3238\n",
      "num=1619\n",
      "num=4858\n",
      "num=2429\n",
      "num=7288\n",
      "num=3644\n",
      "num=1822\n",
      "num=911\n",
      "num=2734\n",
      "num=1367\n",
      "num=4102\n",
      "num=2051\n",
      "num=6154\n",
      "num=3077\n",
      "num=9232\n",
      "num=4616\n",
      "num=2308\n",
      "num=1154\n",
      "num=577\n",
      "num=1732\n",
      "num=866\n",
      "num=433\n",
      "num=1300\n",
      "num=650\n",
      "num=325\n",
      "num=976\n",
      "num=488\n",
      "num=244\n",
      "num=122\n",
      "num=61\n",
      "num=184\n",
      "num=92\n",
      "num=46\n",
      "num=23\n",
      "num=70\n",
      "num=35\n",
      "num=106\n",
      "num=53\n",
      "num=160\n",
      "num=80\n",
      "num=40\n",
      "num=20\n",
      "num=10\n",
      "num=5\n",
      "num=16\n",
      "num=8\n",
      "num=4\n",
      "num=2\n",
      "num=1\n"
     ]
    }
   ],
   "source": [
    "void syracuseProblem(int num)\n",
    "{\n",
    "    while(true)\n",
    "    {\n",
    "        System.out.println(\"num=\"+num);\n",
    "        if (num%2==1){\n",
    "            if(num==1) \n",
    "            {\n",
    "              return;\n",
    "            }\n",
    "            num=num*3+1;\n",
    "        }\n",
    "        else{\n",
    "            num=num/2;  \n",
    "        }\n",
    "        \n",
    "    }\n",
    "}\n",
    "syracuseProblem(27)"
   ]
  },
  {
   "cell_type": "code",
   "execution_count": 1,
   "metadata": {},
   "outputs": [
    {
     "name": "stdout",
     "output_type": "stream",
     "text": [
      "3.141592653589793\n"
     ]
    }
   ],
   "source": [
    "System.out.println(Math.PI);"
   ]
  },
  {
   "cell_type": "code",
   "execution_count": 9,
   "metadata": {},
   "outputs": [
    {
     "name": "stdout",
     "output_type": "stream",
     "text": [
      "3.0\n"
     ]
    }
   ],
   "source": [
    "double d= 4*(3.0/4);\n",
    "System.out.println(d);"
   ]
  },
  {
   "cell_type": "code",
   "execution_count": null,
   "metadata": {},
   "outputs": [],
   "source": []
  },
  {
   "cell_type": "code",
   "execution_count": null,
   "metadata": {},
   "outputs": [],
   "source": []
  },
  {
   "cell_type": "code",
   "execution_count": null,
   "metadata": {},
   "outputs": [],
   "source": []
  }
 ],
 "metadata": {
  "kernelspec": {
   "display_name": "Java",
   "language": "java",
   "name": "java"
  },
  "language_info": {
   "codemirror_mode": "java",
   "file_extension": ".jshell",
   "mimetype": "text/x-java-source",
   "name": "Java",
   "pygments_lexer": "java",
   "version": "11.0.2+7-LTS"
  }
 },
 "nbformat": 4,
 "nbformat_minor": 2
}
