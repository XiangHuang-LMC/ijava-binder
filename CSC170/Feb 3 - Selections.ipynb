{
 "cells": [
  {
   "cell_type": "markdown",
   "metadata": {},
   "source": [
    "### Boolean Type"
   ]
  },
  {
   "cell_type": "code",
   "execution_count": 2,
   "metadata": {},
   "outputs": [
    {
     "name": "stdout",
     "output_type": "stream",
     "text": [
      "true\n"
     ]
    }
   ],
   "source": [
    "System.out.println(1>0);"
   ]
  },
  {
   "cell_type": "code",
   "execution_count": 5,
   "metadata": {},
   "outputs": [
    {
     "name": "stdout",
     "output_type": "stream",
     "text": [
      "false\n"
     ]
    }
   ],
   "source": [
    "System.out.println(-1>0);"
   ]
  },
  {
   "cell_type": "code",
   "execution_count": 10,
   "metadata": {
    "scrolled": true
   },
   "outputs": [
    {
     "name": "stdout",
     "output_type": "stream",
     "text": [
      "even\n"
     ]
    }
   ],
   "source": [
    "int anInt=10;\n",
    "\n",
    "if (anInt % 2 == 1)\n",
    "{\n",
    "    System.out.println(\"odd\");\n",
    "}\n",
    "else\n",
    "{\n",
    "    System.out.println(\"even\");\n",
    "}"
   ]
  },
  {
   "cell_type": "code",
   "execution_count": 12,
   "metadata": {},
   "outputs": [
    {
     "name": "stdout",
     "output_type": "stream",
     "text": [
      "even\n"
     ]
    }
   ],
   "source": [
    "int anInt=10;\n",
    "\n",
    "if (anInt % 2 != 0)\n",
    "{\n",
    "    System.out.println(\"odd\");\n",
    "}\n",
    "else\n",
    "{\n",
    "    System.out.println(\"even\");\n",
    "}"
   ]
  },
  {
   "cell_type": "code",
   "execution_count": 60,
   "metadata": {},
   "outputs": [
    {
     "name": "stdout",
     "output_type": "stream",
     "text": [
      "2.2512527635402524\n"
     ]
    }
   ],
   "source": [
    " System.out.println(Math.random()*10);\n"
   ]
  },
  {
   "cell_type": "code",
   "execution_count": 71,
   "metadata": {},
   "outputs": [
    {
     "name": "stdout",
     "output_type": "stream",
     "text": [
      "greater than 3\n"
     ]
    }
   ],
   "source": [
    "if (Math.random() >= 0.3)\n",
    "{\n",
    "    System.out.println(\"greater than 3\");\n",
    "}"
   ]
  },
  {
   "cell_type": "code",
   "execution_count": 73,
   "metadata": {},
   "outputs": [
    {
     "ename": "CompilationException",
     "evalue": "",
     "output_type": "error",
     "traceback": [
      "\u001b[1m\u001b[30m|   \u001b[1m\u001b[30m  if(\u001b[0m\u001b[1m\u001b[30m\u001b[41m\u001b[0m\u001b[1m\u001b[30m){\u001b[0m",
      "\u001b[1m\u001b[31millegal start of expression\u001b[0m",
      "",
      "\u001b[1m\u001b[30m|   \u001b[1m\u001b[30m      if(\u001b[0m\u001b[1m\u001b[30m\u001b[41m\u001b[0m\u001b[1m\u001b[30m){\u001b[0m",
      "\u001b[1m\u001b[31millegal start of expression\u001b[0m",
      ""
     ]
    }
   ],
   "source": [
    "  if(){\n",
    "      if(){\n",
    "      \n",
    "      }\n",
    "      else\n",
    "      {\n",
    "      \n",
    "      }\n",
    "      \n",
    "  }"
   ]
  },
  {
   "cell_type": "markdown",
   "metadata": {},
   "source": [
    "```java \n",
    "if(){}\n",
    "    if(){}\n",
    "else{}\n",
    "``` "
   ]
  },
  {
   "cell_type": "code",
   "execution_count": 75,
   "metadata": {},
   "outputs": [
    {
     "name": "stdout",
     "output_type": "stream",
     "text": [
      "D\n"
     ]
    }
   ],
   "source": [
    "int score=84;\n",
    "\n",
    "if(score >= 60.0)\n",
    "{\n",
    " System.out.println(\"D\");\n",
    "}\n",
    "else if(score>= 70.0)\n",
    "{\n",
    " System.out.println(\"C\");\n",
    "}\n",
    "else if(score>= 80.0)\n",
    "{\n",
    " System.out.println(\"B\");\n",
    "}\n",
    "else if(score>= 90.0)\n",
    "{\n",
    " System.out.println(\"A\");\n",
    "}"
   ]
  },
  {
   "cell_type": "code",
   "execution_count": 76,
   "metadata": {},
   "outputs": [
    {
     "name": "stdout",
     "output_type": "stream",
     "text": [
      "B\n"
     ]
    }
   ],
   "source": [
    "int score=84;\n",
    "\n",
    "if(score >= 90.0)\n",
    "{\n",
    " System.out.println(\"A\");\n",
    "}\n",
    "else if(score>= 80.0)\n",
    "{\n",
    " System.out.println(\"B\");\n",
    "}\n",
    "else if(score>= 70.0)\n",
    "{\n",
    " System.out.println(\"C\");\n",
    "}\n",
    "else if(score>= 60.0)\n",
    "{\n",
    " System.out.println(\"D\");\n",
    "}"
   ]
  }
 ],
 "metadata": {
  "kernelspec": {
   "display_name": "Java",
   "language": "java",
   "name": "java"
  },
  "language_info": {
   "codemirror_mode": "java",
   "file_extension": ".jshell",
   "mimetype": "text/x-java-source",
   "name": "Java",
   "pygments_lexer": "java",
   "version": "11.0.2+7-LTS"
  }
 },
 "nbformat": 4,
 "nbformat_minor": 4
}
