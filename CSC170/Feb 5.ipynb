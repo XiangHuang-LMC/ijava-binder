{
 "cells": [
  {
   "cell_type": "markdown",
   "metadata": {},
   "source": [
    "```java \n",
    "public class TestMax {\n",
    "    /** Main method */\n",
    "    public static void main(String[] args) {\n",
    "        int i = 5;\n",
    "        int j = 2;\n",
    "        int k = max(i, j);\n",
    "        System.out.println(\"The maximum of \" + i +\" and \" + j + \" is \" + k);\n",
    "    }\n",
    "    /** Return the max of two numbers */\n",
    "    public static int max(int num1, int num2) {\n",
    "        int result;\n",
    "        if (num1 > num2)\n",
    "        result = num1;\n",
    "        else\n",
    "        result = num2;\n",
    "        return result;\n",
    "    }\n",
    "}\n",
    "```"
   ]
  },
  {
   "cell_type": "code",
   "execution_count": 3,
   "metadata": {},
   "outputs": [
    {
     "name": "stdout",
     "output_type": "stream",
     "text": [
      "K=5\n"
     ]
    }
   ],
   "source": [
    "int max(int num1, int num2) {\n",
    "        int result;\n",
    "        if (num1 > num2)\n",
    "        result = num1;\n",
    "        else\n",
    "        result = num2;\n",
    "        return result;\n",
    "}\n",
    "\n",
    "int i=2,j=5;\n",
    "int k=max(2,5);\n",
    "System.out.println(\"K=\"+k);"
   ]
  },
  {
   "cell_type": "code",
   "execution_count": 5,
   "metadata": {},
   "outputs": [
    {
     "ename": "CompilationException",
     "evalue": "",
     "output_type": "error",
     "traceback": [
      "\u001b[1m\u001b[30m|   \u001b[1m\u001b[30m\u001b[0m\u001b[1m\u001b[30m\u001b[41m\u001b[0m\u001b[1m\u001b[30m## for loops\u001b[0m",
      "\u001b[1m\u001b[31millegal character: '#'\u001b[0m",
      "",
      "\u001b[1m\u001b[30m|   \u001b[1m\u001b[30m#\u001b[0m\u001b[1m\u001b[30m\u001b[41m\u001b[0m\u001b[1m\u001b[30m# for loops\u001b[0m",
      "\u001b[1m\u001b[31millegal character: '#'\u001b[0m",
      "",
      "\u001b[1m\u001b[30m|   \u001b[1m\u001b[30m## \u001b[0m\u001b[1m\u001b[30m\u001b[41m\u001b[0m\u001b[1m\u001b[30mfor loops\u001b[0m",
      "\u001b[1m\u001b[31millegal start of expression\u001b[0m",
      ""
     ]
    }
   ],
   "source": [
    "## for loops"
   ]
  },
  {
   "cell_type": "code",
   "execution_count": 20,
   "metadata": {},
   "outputs": [
    {
     "name": "stdout",
     "output_type": "stream",
     "text": [
      "i=1\n",
      "i=2\n",
      "i=4\n",
      "i=8\n",
      "outside the loop i=16\n"
     ]
    }
   ],
   "source": [
    "int i;\n",
    "for(i=1;i < 10; i=i*2)\n",
    "{\n",
    "    System.out.println(\"i=\"+i);\n",
    "}\n",
    "System.out.println(\"outside the loop i=\"+i);"
   ]
  },
  {
   "cell_type": "code",
   "execution_count": 22,
   "metadata": {},
   "outputs": [
    {
     "name": "stdout",
     "output_type": "stream",
     "text": [
      "x=1\n",
      "x=2\n",
      "x=4\n",
      "x=8\n"
     ]
    },
    {
     "ename": "CompilationException",
     "evalue": "",
     "output_type": "error",
     "traceback": [
      "\u001b[1m\u001b[30m|   \u001b[1m\u001b[30mSystem.out.println(\"outside the loop x=\"+\u001b[0m\u001b[1m\u001b[30m\u001b[41mx\u001b[0m\u001b[1m\u001b[30m);\u001b[0m",
      "\u001b[1m\u001b[31mcannot find symbol\u001b[0m",
      "\u001b[1m\u001b[31m  symbol:   variable x\u001b[0m",
      ""
     ]
    }
   ],
   "source": [
    "\n",
    "for(int x=1;x < 10; x=x*2)\n",
    "{\n",
    "    System.out.println(\"x=\"+x);\n",
    "}\n",
    "System.out.println(\"outside the loop x=\"+x);"
   ]
  },
  {
   "cell_type": "code",
   "execution_count": 19,
   "metadata": {},
   "outputs": [
    {
     "name": "stdout",
     "output_type": "stream",
     "text": [
      "i=1\n",
      "i=2\n",
      "i=4\n",
      "i=8\n",
      "outside the loop i=16\n"
     ]
    }
   ],
   "source": [
    "i=1;\n",
    "\n",
    "while(i<10){\n",
    "    System.out.println(\"i=\"+i);\n",
    "    i=i*2;\n",
    "}\n",
    "System.out.println(\"outside the loop i=\"+i);"
   ]
  }
 ],
 "metadata": {
  "kernelspec": {
   "display_name": "Java",
   "language": "java",
   "name": "java"
  },
  "language_info": {
   "codemirror_mode": "java",
   "file_extension": ".jshell",
   "mimetype": "text/x-java-source",
   "name": "Java",
   "pygments_lexer": "java",
   "version": "11.0.2+7-LTS"
  }
 },
 "nbformat": 4,
 "nbformat_minor": 4
}
