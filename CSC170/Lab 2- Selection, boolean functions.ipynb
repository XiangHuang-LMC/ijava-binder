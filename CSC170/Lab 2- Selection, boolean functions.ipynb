{
 "cells": [
  {
   "cell_type": "markdown",
   "metadata": {},
   "source": [
    "# Feb 4: More on Selections and Boolean Functions \n",
    "\n",
    "In todays lab, we are going to try to use selection statement to decide whether a year is a leap year. \n",
    "\n",
    "## Task One: do it in main() function\n",
    "\n",
    "  You should write a program to:\n",
    "  0. Create a class with the name *LeapYear* that contains a main() function.  \n",
    "  1. Ask the user to input an integer representing a year, e.g., 2020. Store the data to a *int* type variable *year*.\n",
    "  2. You should use a variable *isLeapYear* of boolean type, initialize it as *false*.\n",
    "  3. If you find that the year number in 1. is a leap year, change *isLeapYear* variable to \n",
    "  *true*.\n",
    "  4. Output the result by printing out a message tell the user whether the year is a leap year. \n",
    "\n",
    "### Leap year logic\n",
    "To help you recall what is a leap year, here is the definition. \n",
    "> A leap year is exactly divisible by 4 except for century years (years ending with 00). The century year is a leap year only if it is perfectly divisible by 400.\n",
    "\n",
    "In a more structural language (sometimes we call it pseudo code; it looks like Java language but not really, to just express some ideas):\n",
    "\n",
    "```python \n",
    "    isLeapYear = false\n",
    "    if (year is divisible by 100){ //century year\n",
    "        if year is divisible by 400{\n",
    "            then year is a leap year\n",
    "            and set isLeapYear accordingly\n",
    "        }\n",
    "        else{ //not divisible by 400\n",
    "            then year is not a leap year\n",
    "            and set isLeapYear accordingly\n",
    "        }\n",
    "                                  \n",
    "    }\n",
    "    else{\n",
    "        check if the year is divisible by 4 and set isLeapYear accordingly\n",
    "    }       \n",
    "        \n",
    "```\n",
    "\n",
    "\n"
   ]
  },
  {
   "cell_type": "markdown",
   "metadata": {},
   "source": [
    "### Submission\n",
    " - Sumit your *LeapYear.java* file \n",
    " - The best time to submit it is at the end of the lab session\n",
    " - Late due: the end of Feb 7. \n",
    " "
   ]
  },
  {
   "cell_type": "markdown",
   "metadata": {},
   "source": [
    "## Task two: boolean functions and function calls\n",
    "\n",
    "- We can **pack** our code in to a piece of block that we call a **function**.\n",
    "- We can pass in inputs/data for the function to process. We call these data **parameters**.\n",
    "- We can get/grasp the result of the processing and we call it **return value**.\n",
    "- We can **use** the packed code piece conveniently later. We say such an action a **function call**.\n",
    "\n",
    "### Study Case: parity of integers (even/odd property of a number)\n"
   ]
  },
  {
   "cell_type": "markdown",
   "metadata": {},
   "source": [
    "Code example:\n",
    "   [Parity.java](demo/Parity.java)"
   ]
  },
  {
   "cell_type": "code",
   "execution_count": null,
   "metadata": {},
   "outputs": [],
   "source": [
    "### What you need to do:\n",
    "  1. Tu"
   ]
  }
 ],
 "metadata": {
  "kernelspec": {
   "display_name": "Java",
   "language": "java",
   "name": "java"
  },
  "language_info": {
   "codemirror_mode": "java",
   "file_extension": ".jshell",
   "mimetype": "text/x-java-source",
   "name": "Java",
   "pygments_lexer": "java",
   "version": "11.0.2+7-LTS"
  }
 },
 "nbformat": 4,
 "nbformat_minor": 4
}
