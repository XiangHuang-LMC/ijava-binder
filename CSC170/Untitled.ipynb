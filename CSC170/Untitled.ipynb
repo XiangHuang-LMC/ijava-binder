{
 "cells": [
  {
   "cell_type": "markdown",
   "metadata": {},
   "source": [
    "# Lecture Jan 29\n",
    "\n",
    "## Strings, input, and output\n",
    "\n",
    "To output something, you need to use the function System.out.println()."
   ]
  },
  {
   "cell_type": "code",
   "execution_count": 2,
   "metadata": {},
   "outputs": [
    {
     "name": "stdout",
     "output_type": "stream",
     "text": [
      "Le Moyne College\n"
     ]
    }
   ],
   "source": [
    "System.out.println(\"Le Moyne College\");"
   ]
  },
  {
   "cell_type": "code",
   "execution_count": 3,
   "metadata": {},
   "outputs": [
    {
     "name": "stdout",
     "output_type": "stream",
     "text": [
      "Jack\n"
     ]
    }
   ],
   "source": [
    "String name= \"Jack\";\n",
    "System.out.println(name);"
   ]
  },
  {
   "cell_type": "code",
   "execution_count": 7,
   "metadata": {},
   "outputs": [
    {
     "name": "stdout",
     "output_type": "stream",
     "text": [
      "The number is:100\n",
      "The number is (explictly convert):100\n"
     ]
    }
   ],
   "source": [
    "int num = 100;\n",
    "System.out.println(\"The number is:\"+num);\n",
    "System.out.println(\"The number is (explictly convert):\"+ Integer.toString(num));"
   ]
  },
  {
   "cell_type": "code",
   "execution_count": 10,
   "metadata": {},
   "outputs": [
    {
     "name": "stdout",
     "output_type": "stream",
     "text": [
      "num1 is:100.\n",
      "num2 is:100.\n"
     ]
    }
   ],
   "source": [
    "System.out.println(\"num1 is:\"+ num+\".\\n\" + \"num2 is:\" + num+\".\");"
   ]
  },
  {
   "cell_type": "code",
   "execution_count": 11,
   "metadata": {},
   "outputs": [
    {
     "name": "stdout",
     "output_type": "stream",
     "text": [
      "num1 is:100.\n",
      "num2 is:100.\n"
     ]
    }
   ],
   "source": [
    "System.out.println(\"num1 is:\"+ num+\".\");\n",
    "System.out.println(\"num2 is:\"+ num+\".\");"
   ]
  },
  {
   "cell_type": "code",
   "execution_count": 12,
   "metadata": {},
   "outputs": [
    {
     "name": "stdout",
     "output_type": "stream",
     "text": [
      "num1 is:100.num2 is:100.\n"
     ]
    }
   ],
   "source": [
    "System.out.print(\"num1 is:\"+ num+\".\");\n",
    "System.out.println(\"num2 is:\"+ num+\".\");"
   ]
  },
  {
   "cell_type": "markdown",
   "metadata": {},
   "source": [
    "### Input"
   ]
  },
  {
   "cell_type": "code",
   "execution_count": 14,
   "metadata": {},
   "outputs": [],
   "source": [
    "Scanner scan = new Scanner(System.in);"
   ]
  },
  {
   "cell_type": "code",
   "execution_count": null,
   "metadata": {},
   "outputs": [],
   "source": [
    "\n"
   ]
  },
  {
   "cell_type": "code",
   "execution_count": null,
   "metadata": {},
   "outputs": [],
   "source": []
  },
  {
   "cell_type": "code",
   "execution_count": null,
   "metadata": {},
   "outputs": [],
   "source": [
    "double d = 1.75;\n",
    "int intNum = d;\n",
    "\n",
    "System.out.println(\"d is \"+d);\n",
    "System.out.println(\"intNum is \"+ intNum);"
   ]
  },
  {
   "cell_type": "code",
   "execution_count": null,
   "metadata": {},
   "outputs": [],
   "source": [
    "double d = 1.75;\n",
    "int intNum = (int) d;\n",
    "\n",
    "System.out.println(\"d is \"+d);\n",
    "System.out.println(\"intNum is \"+ intNum);"
   ]
  },
  {
   "cell_type": "code",
   "execution_count": null,
   "metadata": {},
   "outputs": [],
   "source": []
  },
  {
   "cell_type": "code",
   "execution_count": null,
   "metadata": {},
   "outputs": [],
   "source": []
  },
  {
   "cell_type": "code",
   "execution_count": null,
   "metadata": {},
   "outputs": [],
   "source": []
  },
  {
   "cell_type": "code",
   "execution_count": null,
   "metadata": {},
   "outputs": [],
   "source": []
  }
 ],
 "metadata": {
  "kernelspec": {
   "display_name": "Java",
   "language": "java",
   "name": "java"
  },
  "language_info": {
   "codemirror_mode": "java",
   "file_extension": ".jshell",
   "mimetype": "text/x-java-source",
   "name": "Java",
   "pygments_lexer": "java",
   "version": "11.0.3+7"
  }
 },
 "nbformat": 4,
 "nbformat_minor": 2
}
